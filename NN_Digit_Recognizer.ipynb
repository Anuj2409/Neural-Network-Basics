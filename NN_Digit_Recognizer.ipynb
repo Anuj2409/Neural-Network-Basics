{
  "nbformat": 4,
  "nbformat_minor": 0,
  "metadata": {
    "colab": {
      "name": "NN_Keras_trial.ipynb",
      "provenance": [],
      "collapsed_sections": [],
      "include_colab_link": true
    },
    "kernelspec": {
      "name": "python3",
      "display_name": "Python 3"
    }
  },
  "cells": [
    {
      "cell_type": "markdown",
      "metadata": {
        "id": "view-in-github",
        "colab_type": "text"
      },
      "source": [
        "<a href=\"https://colab.research.google.com/github/Anuj2409/Neural-Network-Basics/blob/master/NN_Digit_Recognizer.ipynb\" target=\"_parent\"><img src=\"https://colab.research.google.com/assets/colab-badge.svg\" alt=\"Open In Colab\"/></a>"
      ]
    },
    {
      "cell_type": "code",
      "metadata": {
        "id": "LIN7kQE5Sk99",
        "colab_type": "code",
        "colab": {}
      },
      "source": [
        "# Reference   https://towardsdatascience.com/neural-networks-from-scratch-easy-vs-hard-b26ddc2e89c7\n",
        "\n"
      ],
      "execution_count": 0,
      "outputs": []
    },
    {
      "cell_type": "code",
      "metadata": {
        "id": "lbpTonrSX7Jv",
        "colab_type": "code",
        "colab": {
          "base_uri": "https://localhost:8080/",
          "height": 309
        },
        "outputId": "d05c4a8b-c559-4aa4-ea08-94afb6afbdea"
      },
      "source": [
        "import pandas as pd\n",
        "import numpy as np\n",
        "import matplotlib.pyplot as plt\n",
        "from sklearn.datasets import load_digits\n",
        "from sklearn.model_selection import train_test_split\n",
        "dig = load_digits()\n",
        "plt.gray()\n",
        "plt.matshow(dig.images[25])"
      ],
      "execution_count": 38,
      "outputs": [
        {
          "output_type": "execute_result",
          "data": {
            "text/plain": [
              "<matplotlib.image.AxesImage at 0x7f974c49ac50>"
            ]
          },
          "metadata": {
            "tags": []
          },
          "execution_count": 38
        },
        {
          "output_type": "display_data",
          "data": {
            "text/plain": [
              "<Figure size 432x288 with 0 Axes>"
            ]
          },
          "metadata": {
            "tags": []
          }
        },
        {
          "output_type": "display_data",
          "data": {
            "image/png": "[encoded data removed]",
            "text/plain": [
              "<Figure size 288x288 with 1 Axes>"
            ]
          },
          "metadata": {
            "tags": []
          }
        }
      ]
    },
    {
      "cell_type": "code",
      "metadata": {
        "id": "IKc0KwGKYF5O",
        "colab_type": "code",
        "colab": {}
      },
      "source": [
        "onehot_target = pd.get_dummies(dig.target)"
      ],
      "execution_count": 0,
      "outputs": []
    },
    {
      "cell_type": "code",
      "metadata": {
        "id": "NRDvOFh7YA_I",
        "colab_type": "code",
        "colab": {}
      },
      "source": [
        "x_train, x_val, y_train, y_val = train_test_split(dig.data, onehot_target, test_size=0.1, random_state=20)"
      ],
      "execution_count": 0,
      "outputs": []
    },
    {
      "cell_type": "code",
      "metadata": {
        "id": "vv-4xazrS3P0",
        "colab_type": "code",
        "colab": {}
      },
      "source": [
        "from keras.layers import Dense\n",
        "from keras.models import Sequential\n",
        "from keras.optimizers import RMSprop, Adadelta, Adam\n",
        "model = Sequential()\n",
        "model.add(Dense(128, input_dim=x_train.shape[1], activation='relu'))\n",
        "model.add(Dense(128, activation='relu'))\n",
        "model.add(Dense(10, activation='softmax'))"
      ],
      "execution_count": 0,
      "outputs": []
    },
    {
      "cell_type": "code",
      "metadata": {
        "id": "nyVObJNQYM7X",
        "colab_type": "code",
        "colab": {
          "base_uri": "https://localhost:8080/",
          "height": 255
        },
        "outputId": "27a92d56-ba77-4a4b-9700-209b358ae8ed"
      },
      "source": [
        "model.summary()"
      ],
      "execution_count": 68,
      "outputs": [
        {
          "output_type": "stream",
          "text": [
            "Model: \"sequential_5\"\n",
            "_________________________________________________________________\n",
            "Layer (type)                 Output Shape              Param #   \n",
            "=================================================================\n",
            "dense_10 (Dense)             (None, 128)               8320      \n",
            "_________________________________________________________________\n",
            "dense_11 (Dense)             (None, 128)               16512     \n",
            "_________________________________________________________________\n",
            "dense_12 (Dense)             (None, 10)                1290      \n",
            "=================================================================\n",
            "Total params: 26,122\n",
            "Trainable params: 26,122\n",
            "Non-trainable params: 0\n",
            "_________________________________________________________________\n"
          ],
          "name": "stdout"
        }
      ]
    },
    {
      "cell_type": "code",
      "metadata": {
        "id": "m1i8OZLDYM9M",
        "colab_type": "code",
        "colab": {
          "base_uri": "https://localhost:8080/",
          "height": 374
        },
        "outputId": "0e15b947-faf3-4d74-c525-d58c85987cc7"
      },
      "source": [
        "model.compile(optimizer=Adam(), loss='categorical_crossentropy', metrics=['categorical_accuracy'])\n",
        "model.fit(x_train, y_train, epochs=10, batch_size=64)"
      ],
      "execution_count": 69,
      "outputs": [
        {
          "output_type": "stream",
          "text": [
            "Epoch 1/10\n",
            "1617/1617 [==============================] - 0s 300us/step - loss: 1.9746 - categorical_accuracy: 0.5844\n",
            "Epoch 2/10\n",
            "1617/1617 [==============================] - 0s 27us/step - loss: 0.2655 - categorical_accuracy: 0.9072\n",
            "Epoch 3/10\n",
            "1617/1617 [==============================] - 0s 26us/step - loss: 0.1389 - categorical_accuracy: 0.9629\n",
            "Epoch 4/10\n",
            "1617/1617 [==============================] - 0s 32us/step - loss: 0.1079 - categorical_accuracy: 0.9697\n",
            "Epoch 5/10\n",
            "1617/1617 [==============================] - 0s 28us/step - loss: 0.0673 - categorical_accuracy: 0.9827\n",
            "Epoch 6/10\n",
            "1617/1617 [==============================] - 0s 27us/step - loss: 0.0461 - categorical_accuracy: 0.9895\n",
            "Epoch 7/10\n",
            "1617/1617 [==============================] - 0s 29us/step - loss: 0.0389 - categorical_accuracy: 0.9907\n",
            "Epoch 8/10\n",
            "1617/1617 [==============================] - 0s 31us/step - loss: 0.0305 - categorical_accuracy: 0.9951\n",
            "Epoch 9/10\n",
            "1617/1617 [==============================] - 0s 31us/step - loss: 0.0229 - categorical_accuracy: 0.9963\n",
            "Epoch 10/10\n",
            "1617/1617 [==============================] - 0s 32us/step - loss: 0.0151 - categorical_accuracy: 0.9988\n"
          ],
          "name": "stdout"
        },
        {
          "output_type": "execute_result",
          "data": {
            "text/plain": [
              "<keras.callbacks.History at 0x7f974c2e19e8>"
            ]
          },
          "metadata": {
            "tags": []
          },
          "execution_count": 69
        }
      ]
    },
    {
      "cell_type": "code",
      "metadata": {
        "id": "7rR18kTAZfUY",
        "colab_type": "code",
        "colab": {
          "base_uri": "https://localhost:8080/",
          "height": 153
        },
        "outputId": "28bb609f-db07-40c0-ee70-f7bf0aceb379"
      },
      "source": [
        "y_pred = model.predict(x_val)\n",
        "\n",
        "#Converting predictions to label\n",
        "pred = []\n",
        "for i in range(len(y_pred)):\n",
        "    pred.append(np.argmax(y_pred[i]))\n",
        "\n",
        "#Converting one hot encoded test label to label\n",
        "test = []\n",
        "for i in y_val.index:\n",
        "    test.append(np.argmax(y_val.loc[i], axis = 0))"
      ],
      "execution_count": 92,
      "outputs": [
        {
          "output_type": "stream",
          "text": [
            "/usr/local/lib/python3.6/dist-packages/numpy/core/fromnumeric.py:61: FutureWarning: \n",
            "The current behaviour of 'Series.argmax' is deprecated, use 'idxmax'\n",
            "instead.\n",
            "The behavior of 'argmax' will be corrected to return the positional\n",
            "maximum in the future. For now, use 'series.values.argmax' or\n",
            "'np.argmax(np.array(values))' to get the position of the maximum\n",
            "row.\n",
            "  return bound(*args, **kwds)\n"
          ],
          "name": "stderr"
        }
      ]
    },
    {
      "cell_type": "code",
      "metadata": {
        "id": "AUyDb7pwZnGf",
        "colab_type": "code",
        "colab": {
          "base_uri": "https://localhost:8080/",
          "height": 34
        },
        "outputId": "9a0d9d50-46bd-43a4-e452-64051f243b59"
      },
      "source": [
        "from sklearn.metrics import accuracy_score\n",
        "a = accuracy_score(pred,test)\n",
        "print('Accuracy is:', a*100)"
      ],
      "execution_count": 94,
      "outputs": [
        {
          "output_type": "stream",
          "text": [
            "Accuracy is: 97.77777777777777\n"
          ],
          "name": "stdout"
        }
      ]
    }
  ]
}